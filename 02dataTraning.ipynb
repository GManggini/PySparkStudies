{
 "cells": [
  {
   "cell_type": "markdown",
   "id": "dfb35704-e601-4650-af60-18e68871a584",
   "metadata": {},
   "source": [
    "### Just a training with pyspark running on linux"
   ]
  },
  {
   "cell_type": "code",
   "execution_count": 2,
   "id": "1c90420d-d4ee-4c11-9115-9cfa42204dce",
   "metadata": {},
   "outputs": [],
   "source": [
    "from pyspark.sql import SparkSession\n",
    "from pyspark.sql import functions as F"
   ]
  },
  {
   "cell_type": "code",
   "execution_count": 6,
   "id": "59764387-3b2e-4801-a99e-dfb7e20ac4e0",
   "metadata": {},
   "outputs": [
    {
     "name": "stderr",
     "output_type": "stream",
     "text": [
      "24/02/29 16:07:12 WARN Utils: Your hostname, DESKTOP-9M9GKHV resolves to a loopback address: 127.0.1.1; using 172.28.62.164 instead (on interface eth0)\n",
      "24/02/29 16:07:12 WARN Utils: Set SPARK_LOCAL_IP if you need to bind to another address\n",
      "Setting default log level to \"WARN\".\n",
      "To adjust logging level use sc.setLogLevel(newLevel). For SparkR, use setLogLevel(newLevel).\n",
      "24/02/29 16:07:15 WARN NativeCodeLoader: Unable to load native-hadoop library for your platform... using builtin-java classes where applicable\n",
      "24/02/29 16:07:16 WARN Utils: Service 'SparkUI' could not bind on port 4040. Attempting port 4041.\n"
     ]
    }
   ],
   "source": [
    "spark = (\n",
    "    SparkSession\n",
    "    .builder\n",
    "    .master(\"local[*]\")\n",
    "    .appName(\"sparkDataframeApi\")\n",
    "    .getOrCreate()\n",
    ")"
   ]
  },
  {
   "cell_type": "code",
   "execution_count": 7,
   "id": "28e8e38c-f1ce-4796-b2db-e420b29620ad",
   "metadata": {},
   "outputs": [
    {
     "name": "stderr",
     "output_type": "stream",
     "text": [
      "                                                                                \r"
     ]
    }
   ],
   "source": [
    "df = (\n",
    "    spark\n",
    "    .read\n",
    "    .option(\"delimiter\", ';')\n",
    "    .option(\"header\", 'true')\n",
    "    .option(\"inferSchema\", 'true')\n",
    "    .option(\"enconding\", 'ISO-8859-1')\n",
    "    .csv(r\"./data.test/Preços semestrais - AUTOMOTIVOS_2023.02.csv\")\n",
    ")"
   ]
  },
  {
   "cell_type": "code",
   "execution_count": 9,
   "id": "2da1c1d3-cb1d-491d-8055-9578b599b10f",
   "metadata": {
    "scrolled": true
   },
   "outputs": [
    {
     "name": "stdout",
     "output_type": "stream",
     "text": [
      "root\n",
      " |-- Regiao - Sigla: string (nullable = true)\n",
      " |-- Estado - Sigla: string (nullable = true)\n",
      " |-- Municipio: string (nullable = true)\n",
      " |-- Revenda: string (nullable = true)\n",
      " |-- CNPJ da Revenda: string (nullable = true)\n",
      " |-- Nome da Rua: string (nullable = true)\n",
      " |-- Numero Rua: string (nullable = true)\n",
      " |-- Complemento: string (nullable = true)\n",
      " |-- Bairro: string (nullable = true)\n",
      " |-- Cep: string (nullable = true)\n",
      " |-- Produto: string (nullable = true)\n",
      " |-- Data da Coleta: string (nullable = true)\n",
      " |-- Valor de Venda: string (nullable = true)\n",
      " |-- Valor de Compra: string (nullable = true)\n",
      " |-- Unidade de Medida: string (nullable = true)\n",
      " |-- Bandeira: string (nullable = true)\n",
      "\n"
     ]
    }
   ],
   "source": [
    "df.printSchema()"
   ]
  },
  {
   "cell_type": "code",
   "execution_count": 11,
   "id": "81e26516-0585-4541-9415-3d809dac7b62",
   "metadata": {},
   "outputs": [],
   "source": [
    "df_precos = (\n",
    "    df.select('Estado - Sigla', 'Produto', 'Valor de Compra', 'Valor de Venda', 'Unidade de Medida')\n",
    ")"
   ]
  },
  {
   "cell_type": "code",
   "execution_count": 15,
   "id": "f1724a57-1477-4ac9-9597-5fdada89db90",
   "metadata": {},
   "outputs": [
    {
     "name": "stdout",
     "output_type": "stream",
     "text": [
      "+--------------+----------+---------------+--------------+-----------------+\n",
      "|Estado - Sigla|   Produto|Valor de Compra|Valor de Venda|Unidade de Medida|\n",
      "+--------------+----------+---------------+--------------+-----------------+\n",
      "|            SP|  GASOLINA|           NULL|          4,87|       R$ / litro|\n",
      "|            SP|DIESEL S10|           NULL|          4,88|       R$ / litro|\n",
      "|            SP|    ETANOL|           NULL|          3,27|       R$ / litro|\n",
      "|            AC|  GASOLINA|           NULL|          6,95|       R$ / litro|\n",
      "|            AC|DIESEL S10|           NULL|          6,85|       R$ / litro|\n",
      "+--------------+----------+---------------+--------------+-----------------+\n",
      "only showing top 5 rows\n",
      "\n"
     ]
    }
   ],
   "source": [
    "df_precos.show(5)"
   ]
  },
  {
   "cell_type": "code",
   "execution_count": 16,
   "id": "ffc203bb-cce3-4586-96ff-34303aac0aa2",
   "metadata": {},
   "outputs": [
    {
     "name": "stdout",
     "output_type": "stream",
     "text": [
      "+--------------+-------+---------------+--------------+-----------------+\n",
      "|Estado - Sigla|Produto|Valor de Compra|Valor de Venda|Unidade de Medida|\n",
      "+--------------+-------+---------------+--------------+-----------------+\n",
      "+--------------+-------+---------------+--------------+-----------------+\n",
      "\n"
     ]
    }
   ],
   "source": [
    "df_precos.where ( F.col('Valor de Compra').isNotNull()).show()"
   ]
  },
  {
   "cell_type": "code",
   "execution_count": 20,
   "id": "fc028134-9611-4019-b016-eb09462ed362",
   "metadata": {},
   "outputs": [],
   "source": [
    "df_precos = (\n",
    "    df\n",
    "    .select('Estado - Sigla', 'Produto', 'Valor de Venda', 'Unidade de Medida')\n",
    "    .withColumn(\n",
    "        \"Valor de Venda\",\n",
    "        F.regexp_replace(F.col(\"Valor de Venda\"), \",\", \".\")\n",
    "        .cast(\"float\")\n",
    "    )\n",
    ")\n",
    "#removing 'Valor de Compra' because is a full null column\n",
    "#replacing values of 'Valor de Venda' changing string to float and adapting to Brazilian writing (, for .)"
   ]
  },
  {
   "cell_type": "code",
   "execution_count": 22,
   "id": "a16edf33-d307-4e70-b096-834b1eaf7a43",
   "metadata": {},
   "outputs": [
    {
     "name": "stdout",
     "output_type": "stream",
     "text": [
      "+--------------+----------+--------------+-----------------+\n",
      "|Estado - Sigla|   Produto|Valor de Venda|Unidade de Medida|\n",
      "+--------------+----------+--------------+-----------------+\n",
      "|            SP|  GASOLINA|          4.87|       R$ / litro|\n",
      "|            SP|DIESEL S10|          4.88|       R$ / litro|\n",
      "|            SP|    ETANOL|          3.27|       R$ / litro|\n",
      "|            AC|  GASOLINA|          6.95|       R$ / litro|\n",
      "|            AC|DIESEL S10|          6.85|       R$ / litro|\n",
      "+--------------+----------+--------------+-----------------+\n",
      "only showing top 5 rows\n",
      "\n"
     ]
    }
   ],
   "source": [
    "df_precos.show(5) #its work"
   ]
  },
  {
   "cell_type": "code",
   "execution_count": 29,
   "id": "b2768435-e09d-445a-aabe-a5af388a9e27",
   "metadata": {},
   "outputs": [],
   "source": [
    "df_precos_analise = (\n",
    "    df_precos\n",
    "    .groupBy(\n",
    "        F.col('Estado - Sigla'),\n",
    "        F.col('Produto'),\n",
    "        F.col('Unidade de Medida')\n",
    "    )\n",
    "    .agg(\n",
    "        F.min(F.col(\"Valor de Venda\")).alias('minPrice'),\n",
    "        F.max(F.col(\"Valor de Venda\")).alias('maxPrice')\n",
    "    )\n",
    "    .withColumn(\n",
    "        \"dif\",\n",
    "        F.col('maxPrice') - F.col('minPrice')\n",
    "    )\n",
    "    .orderBy('dif', ascending=False)\n",
    ")\n",
    "# making some analisis with de dif of the maxprice and minprice of the fuel in brazil \n",
    "# and showing on a crescending order, we can se in the RS is the most differene"
   ]
  },
  {
   "cell_type": "code",
   "execution_count": 30,
   "id": "56854263-5700-4c85-b64e-550904fb8526",
   "metadata": {},
   "outputs": [
    {
     "name": "stdout",
     "output_type": "stream",
     "text": [
      "+--------------+------------------+-----------------+--------+--------+---------+\n",
      "|Estado - Sigla|           Produto|Unidade de Medida|minPrice|maxPrice|      dif|\n",
      "+--------------+------------------+-----------------+--------+--------+---------+\n",
      "|            RS|GASOLINA ADITIVADA|       R$ / litro|    4.89|    9.79|      4.9|\n",
      "|            SP|        DIESEL S10|       R$ / litro|    4.27|     9.0|     4.73|\n",
      "|            RJ|        DIESEL S10|       R$ / litro|    4.48|    8.89|4.4100003|\n",
      "|            AM|        DIESEL S10|       R$ / litro|    4.79|    8.89|4.1000004|\n",
      "|            BA|GASOLINA ADITIVADA|       R$ / litro|    4.89|    8.94|4.0499997|\n",
      "|            SP|GASOLINA ADITIVADA|       R$ / litro|    4.69|    8.69|3.9999995|\n",
      "|            PE|        DIESEL S10|       R$ / litro|    4.34|    8.19|3.8499994|\n",
      "|            PR|GASOLINA ADITIVADA|       R$ / litro|    4.79|    8.49|3.6999998|\n",
      "|            SP|            ETANOL|       R$ / litro|    2.69|    6.29|      3.6|\n",
      "|            RO|            DIESEL|       R$ / litro|    4.39|    7.96|3.5700002|\n",
      "+--------------+------------------+-----------------+--------+--------+---------+\n",
      "only showing top 10 rows\n",
      "\n"
     ]
    }
   ],
   "source": [
    "df_precos_analise.show(10)"
   ]
  },
  {
   "cell_type": "code",
   "execution_count": null,
   "id": "19864c2c-3d56-4047-ae22-7579e70bbe67",
   "metadata": {},
   "outputs": [],
   "source": []
  }
 ],
 "metadata": {
  "kernelspec": {
   "display_name": "Python 3 (ipykernel)",
   "language": "python",
   "name": "python3"
  },
  "language_info": {
   "codemirror_mode": {
    "name": "ipython",
    "version": 3
   },
   "file_extension": ".py",
   "mimetype": "text/x-python",
   "name": "python",
   "nbconvert_exporter": "python",
   "pygments_lexer": "ipython3",
   "version": "3.10.12"
  }
 },
 "nbformat": 4,
 "nbformat_minor": 5
}
