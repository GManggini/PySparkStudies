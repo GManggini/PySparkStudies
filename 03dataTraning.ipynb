{
 "cells": [
  {
   "cell_type": "markdown",
   "id": "bf89d762-f2c2-4cab-aba5-7a1153334da8",
   "metadata": {},
   "source": [
    "### The same of 02dataTraining but with SQL commands"
   ]
  },
  {
   "cell_type": "code",
   "execution_count": 1,
   "id": "1c90420d-d4ee-4c11-9115-9cfa42204dce",
   "metadata": {},
   "outputs": [],
   "source": [
    "from pyspark.sql import SparkSession"
   ]
  },
  {
   "cell_type": "code",
   "execution_count": 2,
   "id": "59764387-3b2e-4801-a99e-dfb7e20ac4e0",
   "metadata": {},
   "outputs": [
    {
     "name": "stderr",
     "output_type": "stream",
     "text": [
      "24/02/29 17:03:18 WARN Utils: Your hostname, DESKTOP-9M9GKHV resolves to a loopback address: 127.0.1.1; using 172.28.62.164 instead (on interface eth0)\n",
      "24/02/29 17:03:18 WARN Utils: Set SPARK_LOCAL_IP if you need to bind to another address\n",
      "Setting default log level to \"WARN\".\n",
      "To adjust logging level use sc.setLogLevel(newLevel). For SparkR, use setLogLevel(newLevel).\n",
      "24/02/29 17:03:21 WARN NativeCodeLoader: Unable to load native-hadoop library for your platform... using builtin-java classes where applicable\n",
      "24/02/29 17:03:22 WARN Utils: Service 'SparkUI' could not bind on port 4040. Attempting port 4041.\n"
     ]
    }
   ],
   "source": [
    "spark = (\n",
    "    SparkSession\n",
    "    .builder\n",
    "    .master(\"local[*]\")\n",
    "    .appName(\"sparkSQL\")\n",
    "    .getOrCreate()\n",
    ")"
   ]
  },
  {
   "cell_type": "code",
   "execution_count": 3,
   "id": "28e8e38c-f1ce-4796-b2db-e420b29620ad",
   "metadata": {},
   "outputs": [
    {
     "name": "stderr",
     "output_type": "stream",
     "text": [
      "                                                                                \r"
     ]
    }
   ],
   "source": [
    "df = (\n",
    "    spark\n",
    "    .read\n",
    "    .option(\"delimiter\", ';')\n",
    "    .option(\"header\", 'true')\n",
    "    .option(\"inferSchema\", 'true')\n",
    "    .option(\"enconding\", 'ISO-8859-1')\n",
    "    .csv(r\"./data.test/Preços semestrais - AUTOMOTIVOS_2023.02.csv\")\n",
    ")"
   ]
  },
  {
   "cell_type": "code",
   "execution_count": 4,
   "id": "2da1c1d3-cb1d-491d-8055-9578b599b10f",
   "metadata": {
    "scrolled": true
   },
   "outputs": [
    {
     "name": "stdout",
     "output_type": "stream",
     "text": [
      "root\n",
      " |-- Regiao - Sigla: string (nullable = true)\n",
      " |-- Estado - Sigla: string (nullable = true)\n",
      " |-- Municipio: string (nullable = true)\n",
      " |-- Revenda: string (nullable = true)\n",
      " |-- CNPJ da Revenda: string (nullable = true)\n",
      " |-- Nome da Rua: string (nullable = true)\n",
      " |-- Numero Rua: string (nullable = true)\n",
      " |-- Complemento: string (nullable = true)\n",
      " |-- Bairro: string (nullable = true)\n",
      " |-- Cep: string (nullable = true)\n",
      " |-- Produto: string (nullable = true)\n",
      " |-- Data da Coleta: string (nullable = true)\n",
      " |-- Valor de Venda: string (nullable = true)\n",
      " |-- Valor de Compra: string (nullable = true)\n",
      " |-- Unidade de Medida: string (nullable = true)\n",
      " |-- Bandeira: string (nullable = true)\n",
      "\n"
     ]
    }
   ],
   "source": [
    "df.printSchema()"
   ]
  },
  {
   "cell_type": "code",
   "execution_count": 5,
   "id": "19864c2c-3d56-4047-ae22-7579e70bbe67",
   "metadata": {},
   "outputs": [],
   "source": [
    "df.createOrReplaceTempView('combustiveis')"
   ]
  },
  {
   "cell_type": "code",
   "execution_count": 6,
   "id": "9c2ed08e-9896-4d25-a135-4dc67dbda009",
   "metadata": {},
   "outputs": [
    {
     "name": "stdout",
     "output_type": "stream",
     "text": [
      "+--------------+----------+---------------+--------------+-----------------+\n",
      "|Estado - Sigla|   Produto|Valor de Compra|Valor de Venda|Unidade de Medida|\n",
      "+--------------+----------+---------------+--------------+-----------------+\n",
      "|            SP|  GASOLINA|           NULL|          4,87|       R$ / litro|\n",
      "|            SP|DIESEL S10|           NULL|          4,88|       R$ / litro|\n",
      "|            SP|    ETANOL|           NULL|          3,27|       R$ / litro|\n",
      "|            AC|  GASOLINA|           NULL|          6,95|       R$ / litro|\n",
      "|            AC|DIESEL S10|           NULL|          6,85|       R$ / litro|\n",
      "+--------------+----------+---------------+--------------+-----------------+\n",
      "only showing top 5 rows\n",
      "\n"
     ]
    }
   ],
   "source": [
    "spark.sql(\"\"\"\n",
    "    select `Estado - Sigla`, `Produto`, `Valor de Compra`, `Valor de Venda`, `Unidade de Medida` from combustiveis\n",
    "\"\"\").show(5)"
   ]
  },
  {
   "cell_type": "code",
   "execution_count": 7,
   "id": "a1e620d0-f211-4584-884c-47f254e6f168",
   "metadata": {},
   "outputs": [
    {
     "name": "stdout",
     "output_type": "stream",
     "text": [
      "+--------------+--------------+---------+-------+---------------+-----------+----------+-----------+------+---+-------+--------------+--------------+---------------+-----------------+--------+\n",
      "|Regiao - Sigla|Estado - Sigla|Municipio|Revenda|CNPJ da Revenda|Nome da Rua|Numero Rua|Complemento|Bairro|Cep|Produto|Data da Coleta|Valor de Venda|Valor de Compra|Unidade de Medida|Bandeira|\n",
      "+--------------+--------------+---------+-------+---------------+-----------+----------+-----------+------+---+-------+--------------+--------------+---------------+-----------------+--------+\n",
      "+--------------+--------------+---------+-------+---------------+-----------+----------+-----------+------+---+-------+--------------+--------------+---------------+-----------------+--------+\n",
      "\n"
     ]
    }
   ],
   "source": [
    "spark.sql(\"\"\"\n",
    "    select * from combustiveis where `Valor de Compra` is NOT NULL\n",
    "\"\"\").show()"
   ]
  },
  {
   "cell_type": "code",
   "execution_count": 29,
   "id": "4fda2a34-cd4f-4d1a-bdc7-f2bf893bcf8b",
   "metadata": {},
   "outputs": [],
   "source": [
    "view_Precos = spark.sql(\"\"\"\n",
    "    select \n",
    "        `Estado - Sigla`, \n",
    "        `Produto`, \n",
    "        regexp_replace(`Valor de Venda`, \",\", \".\") as `Valor de Venda`, \n",
    "        `Unidade de Medida` \n",
    "    from combustiveis\n",
    "\n",
    "\"\"\")"
   ]
  },
  {
   "cell_type": "code",
   "execution_count": 36,
   "id": "c5211f21-7861-41a1-b92d-5eaa2ae3fbf3",
   "metadata": {
    "scrolled": true
   },
   "outputs": [
    {
     "name": "stdout",
     "output_type": "stream",
     "text": [
      "+--------------+----------+--------------+-----------------+\n",
      "|Estado - Sigla|   Produto|Valor de Venda|Unidade de Medida|\n",
      "+--------------+----------+--------------+-----------------+\n",
      "|            SP|  GASOLINA|          4.87|       R$ / litro|\n",
      "|            SP|DIESEL S10|          4.88|       R$ / litro|\n",
      "|            SP|    ETANOL|          3.27|       R$ / litro|\n",
      "|            AC|  GASOLINA|          6.95|       R$ / litro|\n",
      "|            AC|DIESEL S10|          6.85|       R$ / litro|\n",
      "+--------------+----------+--------------+-----------------+\n",
      "only showing top 5 rows\n",
      "\n"
     ]
    }
   ],
   "source": [
    "view_Precos.createOrReplaceTempView('view_Precos')\n",
    "view_Precos.show(5)"
   ]
  },
  {
   "cell_type": "code",
   "execution_count": 40,
   "id": "fff863bc-f58c-4fb7-873f-313b4c3f7ca9",
   "metadata": {
    "scrolled": true
   },
   "outputs": [],
   "source": [
    "df_DifPrice = spark.sql(\"\"\"\n",
    "    select \n",
    "        `Estado - Sigla`, \n",
    "        `Produto`, \n",
    "        `Valor de Venda`, \n",
    "        `Unidade de Medida`,\n",
    "        MIN(`Valor de Venda`) as minPrice,\n",
    "        MAX(`Valor de venda`) as maxPrice,\n",
    "        MAX(`Valor de venda`) - MIN(`Valor de Venda`) as dif\n",
    "    from view_Precos\n",
    "    group by all\n",
    "    order by dif DESC\n",
    "\n",
    "\"\"\")"
   ]
  },
  {
   "cell_type": "code",
   "execution_count": 42,
   "id": "288f50d2-8c80-4b4e-9aae-be5bb1924a39",
   "metadata": {},
   "outputs": [
    {
     "name": "stderr",
     "output_type": "stream",
     "text": [
      "[Stage 10:>                                                         (0 + 4) / 4]\r"
     ]
    },
    {
     "name": "stdout",
     "output_type": "stream",
     "text": [
      "+--------------+-------+--------------+-----------------+--------+--------+---+\n",
      "|Estado - Sigla|Produto|Valor de Venda|Unidade de Medida|minPrice|maxPrice|dif|\n",
      "+--------------+-------+--------------+-----------------+--------+--------+---+\n",
      "|            AC| DIESEL|          5.65|       R$ / litro|    5.65|    5.65|0.0|\n",
      "|            AC| DIESEL|          5.69|       R$ / litro|    5.69|    5.69|0.0|\n",
      "|            AC| DIESEL|          5.72|       R$ / litro|    5.72|    5.72|0.0|\n",
      "|            AC| DIESEL|          5.75|       R$ / litro|    5.75|    5.75|0.0|\n",
      "|            AC| DIESEL|          5.76|       R$ / litro|    5.76|    5.76|0.0|\n",
      "+--------------+-------+--------------+-----------------+--------+--------+---+\n",
      "only showing top 5 rows\n",
      "\n"
     ]
    },
    {
     "name": "stderr",
     "output_type": "stream",
     "text": [
      "                                                                                \r"
     ]
    }
   ],
   "source": [
    "df_DifPrice.show(5)"
   ]
  }
 ],
 "metadata": {
  "kernelspec": {
   "display_name": "Python 3 (ipykernel)",
   "language": "python",
   "name": "python3"
  },
  "language_info": {
   "codemirror_mode": {
    "name": "ipython",
    "version": 3
   },
   "file_extension": ".py",
   "mimetype": "text/x-python",
   "name": "python",
   "nbconvert_exporter": "python",
   "pygments_lexer": "ipython3",
   "version": "3.10.12"
  }
 },
 "nbformat": 4,
 "nbformat_minor": 5
}
