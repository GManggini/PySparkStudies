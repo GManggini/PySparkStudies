{
 "cells": [
  {
   "cell_type": "markdown",
   "id": "f515b754-fb33-49ef-843f-36fef47329d0",
   "metadata": {},
   "source": [
    "### A Hello World with PySpark"
   ]
  },
  {
   "cell_type": "code",
   "execution_count": 7,
   "id": "91c0d80d-edb7-43b4-a9fd-d7c226c19c28",
   "metadata": {},
   "outputs": [],
   "source": [
    "from pyspark.sql.types import StructType,StructField, StringType, IntegerType \n",
    "from pyspark.sql import SparkSession"
   ]
  },
  {
   "cell_type": "code",
   "execution_count": 2,
   "id": "dcec9e0a-6193-4262-a864-e7f1d0c57d66",
   "metadata": {},
   "outputs": [
    {
     "name": "stderr",
     "output_type": "stream",
     "text": [
      "24/02/29 15:42:56 WARN Utils: Your hostname, DESKTOP-9M9GKHV resolves to a loopback address: 127.0.1.1; using 172.28.62.164 instead (on interface eth0)\n",
      "24/02/29 15:42:56 WARN Utils: Set SPARK_LOCAL_IP if you need to bind to another address\n",
      "Setting default log level to \"WARN\".\n",
      "To adjust logging level use sc.setLogLevel(newLevel). For SparkR, use setLogLevel(newLevel).\n",
      "24/02/29 15:42:59 WARN NativeCodeLoader: Unable to load native-hadoop library for your platform... using builtin-java classes where applicable\n"
     ]
    }
   ],
   "source": [
    "spark = ( \n",
    " SparkSession\n",
    " .builder\n",
    " .master(\"local[*]\")\n",
    " .appName('test')\n",
    " .getOrCreate()\n",
    ")"
   ]
  },
  {
   "cell_type": "code",
   "execution_count": 3,
   "id": "1a5a1ad8-490d-4a00-baa8-2882fe244e04",
   "metadata": {},
   "outputs": [],
   "source": [
    "data = [\n",
    "    (\"James\",\"Smith\",\"36636\",'M',3000),\n",
    "    (\"Micael\",\"Jaqueson\",\"40288\",'M',3000),\n",
    "    (\"Joseph\",\"Targuerian\",\"42111\",'M',4000),\n",
    "    (\"Reyna\",\"Cruz\",\"57689\",'F',4000),\n",
    "    (\"Veronica\",\"Torres\",\"12354\",'F',-1)\n",
    "    \n",
    "]"
   ]
  },
  {
   "cell_type": "code",
   "execution_count": 4,
   "id": "b112edaf-99eb-4d3f-9fd0-88047fc7f036",
   "metadata": {},
   "outputs": [],
   "source": [
    "schema = (\n",
    " StructType([\n",
    "  StructField(\"firstname\",StringType(),True),\n",
    "  StructField(\"lastname\",StringType(),True),\n",
    "  StructField(\"id\", StringType(), True),\n",
    "  StructField(\"gender\", StringType(), True),\n",
    "  StructField(\"salary\", IntegerType(), True)\n",
    "   ])\n",
    ")"
   ]
  },
  {
   "cell_type": "code",
   "execution_count": 5,
   "id": "c55286c0-3c60-4e4c-b100-aee43c05e6fe",
   "metadata": {
    "scrolled": true
   },
   "outputs": [
    {
     "name": "stdout",
     "output_type": "stream",
     "text": [
      "root\n",
      " |-- firstname: string (nullable = true)\n",
      " |-- lastname: string (nullable = true)\n",
      " |-- id: string (nullable = true)\n",
      " |-- gender: string (nullable = true)\n",
      " |-- salary: integer (nullable = true)\n",
      "\n"
     ]
    },
    {
     "name": "stderr",
     "output_type": "stream",
     "text": [
      "                                                                                \r"
     ]
    },
    {
     "name": "stdout",
     "output_type": "stream",
     "text": [
      "+---------+----------+-----+------+------+\n",
      "|firstname|lastname  |id   |gender|salary|\n",
      "+---------+----------+-----+------+------+\n",
      "|James    |Smith     |36636|M     |3000  |\n",
      "|Micael   |Jaqueson  |40288|M     |3000  |\n",
      "|Joseph   |Targuerian|42111|M     |4000  |\n",
      "|Reyna    |Cruz      |57689|F     |4000  |\n",
      "|Veronica |Torres    |12354|F     |-1    |\n",
      "+---------+----------+-----+------+------+\n",
      "\n"
     ]
    }
   ],
   "source": [
    "df = spark.createDataFrame(data=data,schema=schema)\n",
    "\n",
    "df.printSchema() \n",
    "\n",
    "df.show(truncate=False)"
   ]
  }
 ],
 "metadata": {
  "kernelspec": {
   "display_name": "Python 3 (ipykernel)",
   "language": "python",
   "name": "python3"
  },
  "language_info": {
   "codemirror_mode": {
    "name": "ipython",
    "version": 3
   },
   "file_extension": ".py",
   "mimetype": "text/x-python",
   "name": "python",
   "nbconvert_exporter": "python",
   "pygments_lexer": "ipython3",
   "version": "3.10.12"
  }
 },
 "nbformat": 4,
 "nbformat_minor": 5
}
